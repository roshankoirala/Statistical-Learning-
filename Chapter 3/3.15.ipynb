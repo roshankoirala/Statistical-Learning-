{
 "cells": [
  {
   "cell_type": "markdown",
   "metadata": {},
   "source": [
    "# Exercise 15\n",
    "\n",
    "## We will now to predict per capita crime rate using the Boston data set. In other words, per capita crime rate is the response, and the other variables are the predictors."
   ]
  },
  {
   "cell_type": "code",
   "execution_count": 1,
   "metadata": {},
   "outputs": [],
   "source": [
    "import numpy as np\n",
    "import pandas as pd\n",
    "import matplotlib.pyplot as plt \n",
    "import seaborn as sns; sns.set()"
   ]
  },
  {
   "cell_type": "code",
   "execution_count": 2,
   "metadata": {},
   "outputs": [],
   "source": [
    "df = pd.read_excel('Boston.xls')"
   ]
  },
  {
   "cell_type": "code",
   "execution_count": 3,
   "metadata": {},
   "outputs": [
    {
     "data": {
      "text/html": [
       "<div>\n",
       "<style scoped>\n",
       "    .dataframe tbody tr th:only-of-type {\n",
       "        vertical-align: middle;\n",
       "    }\n",
       "\n",
       "    .dataframe tbody tr th {\n",
       "        vertical-align: top;\n",
       "    }\n",
       "\n",
       "    .dataframe thead th {\n",
       "        text-align: right;\n",
       "    }\n",
       "</style>\n",
       "<table border=\"1\" class=\"dataframe\">\n",
       "  <thead>\n",
       "    <tr style=\"text-align: right;\">\n",
       "      <th></th>\n",
       "      <th>CRIM</th>\n",
       "      <th>ZN</th>\n",
       "      <th>INDUS</th>\n",
       "      <th>CHAS</th>\n",
       "      <th>NOX</th>\n",
       "      <th>RM</th>\n",
       "      <th>AGE</th>\n",
       "      <th>DIS</th>\n",
       "      <th>RAD</th>\n",
       "      <th>TAX</th>\n",
       "      <th>PT</th>\n",
       "      <th>B</th>\n",
       "      <th>LSTAT</th>\n",
       "      <th>MV</th>\n",
       "    </tr>\n",
       "  </thead>\n",
       "  <tbody>\n",
       "    <tr>\n",
       "      <th>0</th>\n",
       "      <td>0.00632</td>\n",
       "      <td>18.0</td>\n",
       "      <td>2.31</td>\n",
       "      <td>0</td>\n",
       "      <td>0.538</td>\n",
       "      <td>6.575</td>\n",
       "      <td>65.199997</td>\n",
       "      <td>4.0900</td>\n",
       "      <td>1</td>\n",
       "      <td>296</td>\n",
       "      <td>15.300000</td>\n",
       "      <td>396.899994</td>\n",
       "      <td>4.98</td>\n",
       "      <td>24.000000</td>\n",
       "    </tr>\n",
       "    <tr>\n",
       "      <th>1</th>\n",
       "      <td>0.02731</td>\n",
       "      <td>0.0</td>\n",
       "      <td>7.07</td>\n",
       "      <td>0</td>\n",
       "      <td>0.469</td>\n",
       "      <td>6.421</td>\n",
       "      <td>78.900002</td>\n",
       "      <td>4.9671</td>\n",
       "      <td>2</td>\n",
       "      <td>242</td>\n",
       "      <td>17.799999</td>\n",
       "      <td>396.899994</td>\n",
       "      <td>9.14</td>\n",
       "      <td>21.600000</td>\n",
       "    </tr>\n",
       "    <tr>\n",
       "      <th>2</th>\n",
       "      <td>0.02729</td>\n",
       "      <td>0.0</td>\n",
       "      <td>7.07</td>\n",
       "      <td>0</td>\n",
       "      <td>0.469</td>\n",
       "      <td>7.185</td>\n",
       "      <td>61.099998</td>\n",
       "      <td>4.9671</td>\n",
       "      <td>2</td>\n",
       "      <td>242</td>\n",
       "      <td>17.799999</td>\n",
       "      <td>392.829987</td>\n",
       "      <td>4.03</td>\n",
       "      <td>34.700001</td>\n",
       "    </tr>\n",
       "    <tr>\n",
       "      <th>3</th>\n",
       "      <td>0.03237</td>\n",
       "      <td>0.0</td>\n",
       "      <td>2.18</td>\n",
       "      <td>0</td>\n",
       "      <td>0.458</td>\n",
       "      <td>6.998</td>\n",
       "      <td>45.799999</td>\n",
       "      <td>6.0622</td>\n",
       "      <td>3</td>\n",
       "      <td>222</td>\n",
       "      <td>18.700001</td>\n",
       "      <td>394.630005</td>\n",
       "      <td>2.94</td>\n",
       "      <td>33.400002</td>\n",
       "    </tr>\n",
       "    <tr>\n",
       "      <th>4</th>\n",
       "      <td>0.06905</td>\n",
       "      <td>0.0</td>\n",
       "      <td>2.18</td>\n",
       "      <td>0</td>\n",
       "      <td>0.458</td>\n",
       "      <td>7.147</td>\n",
       "      <td>54.200001</td>\n",
       "      <td>6.0622</td>\n",
       "      <td>3</td>\n",
       "      <td>222</td>\n",
       "      <td>18.700001</td>\n",
       "      <td>396.899994</td>\n",
       "      <td>5.33</td>\n",
       "      <td>36.200001</td>\n",
       "    </tr>\n",
       "  </tbody>\n",
       "</table>\n",
       "</div>"
      ],
      "text/plain": [
       "      CRIM    ZN  INDUS  CHAS    NOX     RM        AGE     DIS  RAD  TAX  \\\n",
       "0  0.00632  18.0   2.31     0  0.538  6.575  65.199997  4.0900    1  296   \n",
       "1  0.02731   0.0   7.07     0  0.469  6.421  78.900002  4.9671    2  242   \n",
       "2  0.02729   0.0   7.07     0  0.469  7.185  61.099998  4.9671    2  242   \n",
       "3  0.03237   0.0   2.18     0  0.458  6.998  45.799999  6.0622    3  222   \n",
       "4  0.06905   0.0   2.18     0  0.458  7.147  54.200001  6.0622    3  222   \n",
       "\n",
       "          PT           B  LSTAT         MV  \n",
       "0  15.300000  396.899994   4.98  24.000000  \n",
       "1  17.799999  396.899994   9.14  21.600000  \n",
       "2  17.799999  392.829987   4.03  34.700001  \n",
       "3  18.700001  394.630005   2.94  33.400002  \n",
       "4  18.700001  396.899994   5.33  36.200001  "
      ]
     },
     "execution_count": 3,
     "metadata": {},
     "output_type": "execute_result"
    }
   ],
   "source": [
    "df.head()"
   ]
  },
  {
   "cell_type": "code",
   "execution_count": 4,
   "metadata": {},
   "outputs": [
    {
     "data": {
      "text/html": [
       "<div>\n",
       "<style scoped>\n",
       "    .dataframe tbody tr th:only-of-type {\n",
       "        vertical-align: middle;\n",
       "    }\n",
       "\n",
       "    .dataframe tbody tr th {\n",
       "        vertical-align: top;\n",
       "    }\n",
       "\n",
       "    .dataframe thead th {\n",
       "        text-align: right;\n",
       "    }\n",
       "</style>\n",
       "<table border=\"1\" class=\"dataframe\">\n",
       "  <thead>\n",
       "    <tr style=\"text-align: right;\">\n",
       "      <th></th>\n",
       "      <th>CRIM</th>\n",
       "      <th>ZN</th>\n",
       "      <th>INDUS</th>\n",
       "      <th>CHAS</th>\n",
       "      <th>NOX</th>\n",
       "      <th>RM</th>\n",
       "      <th>AGE</th>\n",
       "      <th>DIS</th>\n",
       "      <th>RAD</th>\n",
       "      <th>TAX</th>\n",
       "      <th>PT</th>\n",
       "      <th>B</th>\n",
       "      <th>LSTAT</th>\n",
       "      <th>MV</th>\n",
       "    </tr>\n",
       "  </thead>\n",
       "  <tbody>\n",
       "    <tr>\n",
       "      <th>count</th>\n",
       "      <td>506.00</td>\n",
       "      <td>506.00</td>\n",
       "      <td>506.00</td>\n",
       "      <td>506.00</td>\n",
       "      <td>506.00</td>\n",
       "      <td>506.00</td>\n",
       "      <td>506.00</td>\n",
       "      <td>506.00</td>\n",
       "      <td>506.00</td>\n",
       "      <td>506.00</td>\n",
       "      <td>506.00</td>\n",
       "      <td>506.00</td>\n",
       "      <td>506.00</td>\n",
       "      <td>506.00</td>\n",
       "    </tr>\n",
       "    <tr>\n",
       "      <th>mean</th>\n",
       "      <td>3.61</td>\n",
       "      <td>11.36</td>\n",
       "      <td>11.14</td>\n",
       "      <td>0.07</td>\n",
       "      <td>0.55</td>\n",
       "      <td>6.28</td>\n",
       "      <td>68.57</td>\n",
       "      <td>3.80</td>\n",
       "      <td>9.55</td>\n",
       "      <td>408.24</td>\n",
       "      <td>18.46</td>\n",
       "      <td>356.67</td>\n",
       "      <td>12.65</td>\n",
       "      <td>22.53</td>\n",
       "    </tr>\n",
       "    <tr>\n",
       "      <th>std</th>\n",
       "      <td>8.60</td>\n",
       "      <td>23.32</td>\n",
       "      <td>6.86</td>\n",
       "      <td>0.25</td>\n",
       "      <td>0.12</td>\n",
       "      <td>0.70</td>\n",
       "      <td>28.15</td>\n",
       "      <td>2.11</td>\n",
       "      <td>8.71</td>\n",
       "      <td>168.54</td>\n",
       "      <td>2.16</td>\n",
       "      <td>91.29</td>\n",
       "      <td>7.14</td>\n",
       "      <td>9.20</td>\n",
       "    </tr>\n",
       "    <tr>\n",
       "      <th>min</th>\n",
       "      <td>0.01</td>\n",
       "      <td>0.00</td>\n",
       "      <td>0.46</td>\n",
       "      <td>0.00</td>\n",
       "      <td>0.38</td>\n",
       "      <td>3.56</td>\n",
       "      <td>2.90</td>\n",
       "      <td>1.13</td>\n",
       "      <td>1.00</td>\n",
       "      <td>187.00</td>\n",
       "      <td>12.60</td>\n",
       "      <td>0.32</td>\n",
       "      <td>1.73</td>\n",
       "      <td>5.00</td>\n",
       "    </tr>\n",
       "    <tr>\n",
       "      <th>25%</th>\n",
       "      <td>0.08</td>\n",
       "      <td>0.00</td>\n",
       "      <td>5.19</td>\n",
       "      <td>0.00</td>\n",
       "      <td>0.45</td>\n",
       "      <td>5.89</td>\n",
       "      <td>45.02</td>\n",
       "      <td>2.10</td>\n",
       "      <td>4.00</td>\n",
       "      <td>279.00</td>\n",
       "      <td>17.40</td>\n",
       "      <td>375.38</td>\n",
       "      <td>6.95</td>\n",
       "      <td>17.03</td>\n",
       "    </tr>\n",
       "    <tr>\n",
       "      <th>50%</th>\n",
       "      <td>0.26</td>\n",
       "      <td>0.00</td>\n",
       "      <td>9.69</td>\n",
       "      <td>0.00</td>\n",
       "      <td>0.54</td>\n",
       "      <td>6.21</td>\n",
       "      <td>77.50</td>\n",
       "      <td>3.21</td>\n",
       "      <td>5.00</td>\n",
       "      <td>330.00</td>\n",
       "      <td>19.05</td>\n",
       "      <td>391.44</td>\n",
       "      <td>11.36</td>\n",
       "      <td>21.20</td>\n",
       "    </tr>\n",
       "    <tr>\n",
       "      <th>75%</th>\n",
       "      <td>3.68</td>\n",
       "      <td>12.50</td>\n",
       "      <td>18.10</td>\n",
       "      <td>0.00</td>\n",
       "      <td>0.62</td>\n",
       "      <td>6.62</td>\n",
       "      <td>94.07</td>\n",
       "      <td>5.19</td>\n",
       "      <td>24.00</td>\n",
       "      <td>666.00</td>\n",
       "      <td>20.20</td>\n",
       "      <td>396.23</td>\n",
       "      <td>16.95</td>\n",
       "      <td>25.00</td>\n",
       "    </tr>\n",
       "    <tr>\n",
       "      <th>max</th>\n",
       "      <td>88.98</td>\n",
       "      <td>100.00</td>\n",
       "      <td>27.74</td>\n",
       "      <td>1.00</td>\n",
       "      <td>0.87</td>\n",
       "      <td>8.78</td>\n",
       "      <td>100.00</td>\n",
       "      <td>12.13</td>\n",
       "      <td>24.00</td>\n",
       "      <td>711.00</td>\n",
       "      <td>22.00</td>\n",
       "      <td>396.90</td>\n",
       "      <td>37.97</td>\n",
       "      <td>50.00</td>\n",
       "    </tr>\n",
       "  </tbody>\n",
       "</table>\n",
       "</div>"
      ],
      "text/plain": [
       "         CRIM      ZN   INDUS    CHAS     NOX      RM     AGE     DIS     RAD  \\\n",
       "count  506.00  506.00  506.00  506.00  506.00  506.00  506.00  506.00  506.00   \n",
       "mean     3.61   11.36   11.14    0.07    0.55    6.28   68.57    3.80    9.55   \n",
       "std      8.60   23.32    6.86    0.25    0.12    0.70   28.15    2.11    8.71   \n",
       "min      0.01    0.00    0.46    0.00    0.38    3.56    2.90    1.13    1.00   \n",
       "25%      0.08    0.00    5.19    0.00    0.45    5.89   45.02    2.10    4.00   \n",
       "50%      0.26    0.00    9.69    0.00    0.54    6.21   77.50    3.21    5.00   \n",
       "75%      3.68   12.50   18.10    0.00    0.62    6.62   94.07    5.19   24.00   \n",
       "max     88.98  100.00   27.74    1.00    0.87    8.78  100.00   12.13   24.00   \n",
       "\n",
       "          TAX      PT       B   LSTAT      MV  \n",
       "count  506.00  506.00  506.00  506.00  506.00  \n",
       "mean   408.24   18.46  356.67   12.65   22.53  \n",
       "std    168.54    2.16   91.29    7.14    9.20  \n",
       "min    187.00   12.60    0.32    1.73    5.00  \n",
       "25%    279.00   17.40  375.38    6.95   17.03  \n",
       "50%    330.00   19.05  391.44   11.36   21.20  \n",
       "75%    666.00   20.20  396.23   16.95   25.00  \n",
       "max    711.00   22.00  396.90   37.97   50.00  "
      ]
     },
     "execution_count": 4,
     "metadata": {},
     "output_type": "execute_result"
    }
   ],
   "source": [
    "round(df.describe(), 2)"
   ]
  },
  {
   "cell_type": "markdown",
   "metadata": {},
   "source": [
    "## For each predictor, fit a simple linear regression model to predict the response. Describe your results. In which of the models is there a statistically significant association between the predictor and the response? "
   ]
  },
  {
   "cell_type": "code",
   "execution_count": 5,
   "metadata": {},
   "outputs": [],
   "source": [
    "from sklearn.linear_model import LinearRegression"
   ]
  },
  {
   "cell_type": "code",
   "execution_count": 6,
   "metadata": {},
   "outputs": [],
   "source": [
    "from regressors import stats"
   ]
  },
  {
   "cell_type": "code",
   "execution_count": 7,
   "metadata": {},
   "outputs": [],
   "source": [
    "model = LinearRegression()"
   ]
  },
  {
   "cell_type": "code",
   "execution_count": 8,
   "metadata": {},
   "outputs": [],
   "source": [
    "X = df.drop(['CRIM'], axis = 1)\n",
    "y = df['CRIM']"
   ]
  },
  {
   "cell_type": "code",
   "execution_count": 9,
   "metadata": {},
   "outputs": [
    {
     "name": "stdout",
     "output_type": "stream",
     "text": [
      "ZN             4.453693759390921        [-0.07393498]            0.0            5.3e-07\n",
      "INDUS          -2.063742805827856       [0.50977635]             0.00200824     0.0\n",
      "CHAS           3.7444468399766455       [-1.89277655]            0.0            0.20784308\n",
      "NOX            -13.719882976106692      [31.24853236]            0.0            0.0\n",
      "RM             20.481803762269035       [-2.68405116]            0.0            0.0\n",
      "AGE            -3.777906303418392       [0.10778623]             6.98e-05       0.0\n",
      "DIS            9.499261605797495        [-1.55090167]            0.0            0.0\n",
      "RAD            -2.287159449135958       [0.61791093]             3.3e-07        0.0\n",
      "TAX            -8.528369098817826       [0.02974225]             0.0            0.0\n",
      "PT             -17.646935356723354      [1.15198287]             3e-08          0.0\n",
      "B              16.553529542702254       [-0.03627964]            0.0            0.0\n",
      "LSTAT          -3.3305380590346627      [0.54880478]             1.92e-06       0.0\n",
      "MV             11.79653579637295        [-0.36315992]            0.0            0.0\n"
     ]
    }
   ],
   "source": [
    "cof_list = []\n",
    "for column_number in range(len(X.columns)):\n",
    "    X_single = X.iloc[:, column_number][:, np.newaxis]\n",
    "    model.fit(X_single, y)\n",
    "    p_list = stats.coef_pval(model, X_single, y)\n",
    "    print(str(X.columns[column_number]).ljust(15) + str(model.intercept_).ljust(25) \n",
    "          + str(model.coef_).ljust(25) + str(round(p_list[0], 8)).ljust(15)\n",
    "          + str(round(p_list[1], 8)))\n",
    "    cof_list.append(model.coef_)\n",
    "cof_list = np.hstack(cof_list)"
   ]
  },
  {
   "cell_type": "markdown",
   "metadata": {},
   "source": [
    "The first column is name of the features, second column is the intercept of the individual fit, the third column is fit coefficient of the model, third column is p-value of the intercept while the last column is p-value of the coefficients. Except CHAS feature all of the individual features are highly significnat. "
   ]
  },
  {
   "cell_type": "markdown",
   "metadata": {},
   "source": [
    "## Fit a multiple regression model to predict the response using all of the predictors. Describe your results. For which predictors can we reject the null hypothesis H0 : βj = 0?\n",
    "\n",
    "This can be done in statsmodels as well. But here is the use of scikit learn and regressor package to simulate what statsmode does."
   ]
  },
  {
   "cell_type": "code",
   "execution_count": 10,
   "metadata": {},
   "outputs": [
    {
     "name": "stdout",
     "output_type": "stream",
     "text": [
      "Residuals:\n",
      "Min      1Q  Median      3Q     Max\n",
      "-75.0512 -1.0188  0.3533  2.1198  9.9237\n",
      "\n",
      "\n",
      "Coefficients:\n",
      "             Estimate  Std. Error  t value   p value\n",
      "_intercept  17.033225    6.896161   2.4700  0.013842\n",
      "ZN           0.044855    0.014695   3.0523  0.002390\n",
      "INDUS       -0.063855    0.075048  -0.8509  0.395251\n",
      "CHAS        -0.749134    1.161895  -0.6448  0.519381\n",
      "NOX        -10.313532    4.882291  -2.1124  0.035139\n",
      "RM           0.430130    0.491668   0.8748  0.382077\n",
      "AGE          0.001452    0.013080   0.1110  0.911673\n",
      "DIS         -0.987176    0.244638  -4.0353  0.000063\n",
      "RAD          0.588209    0.080157   7.3382  0.000000\n",
      "TAX         -0.003780    0.001407  -2.6856  0.007477\n",
      "PT          -0.271081    0.121331  -2.2342  0.025906\n",
      "B           -0.007538    0.001582  -4.7644  0.000002\n",
      "LSTAT        0.126211    0.063191   1.9973  0.046329\n",
      "MV          -0.198887    0.039883  -4.9867  0.000001\n",
      "---\n",
      "R-squared:  0.45401,    Adjusted R-squared:  0.43958\n",
      "F-statistic: 31.47 on 13 features\n"
     ]
    }
   ],
   "source": [
    "model.fit(X, y)\n",
    "stats.summary(model, X, y, X.columns)"
   ]
  },
  {
   "cell_type": "markdown",
   "metadata": {},
   "source": [
    "Looking at the p-values the null hypothesis can be rejected for the INDUS, CHAS, NOX, RM, AGE, PT, LSTAT variables in the presence of the remaining variables. Others have 99% or higher significance. They are ZN, DIS, RAD, TAX, B, MV."
   ]
  },
  {
   "cell_type": "code",
   "execution_count": 11,
   "metadata": {},
   "outputs": [
    {
     "name": "stdout",
     "output_type": "stream",
     "text": [
      "SSE: \t\t\t 20399.930939841983\n",
      "Adjusted R2 score: \t 0.4395838345720853\n",
      "F-statistics: \t\t 31.47046519978721\n"
     ]
    }
   ],
   "source": [
    "print('SSE: \\t\\t\\t', stats.sse(model, X, y))\n",
    "print('Adjusted R2 score: \\t', stats.adj_r2_score(model, X, y))\n",
    "print('F-statistics: \\t\\t', stats.f_stat(model, X, y))"
   ]
  },
  {
   "cell_type": "markdown",
   "metadata": {},
   "source": [
    "## Create a plot displaying the univariate regression coefficients on the x-axis, and the multiple regression coefficients on the y-axis."
   ]
  },
  {
   "cell_type": "code",
   "execution_count": 12,
   "metadata": {},
   "outputs": [
    {
     "data": {
      "text/plain": [
       "(17.0332254033135,\n",
       " array([ 4.48552138e-02, -6.38548287e-02, -7.49133636e-01, -1.03135315e+01,\n",
       "         4.30130434e-01,  1.45164053e-03, -9.87175625e-01,  5.88208588e-01,\n",
       "        -3.78001633e-03, -2.71080510e-01, -7.53750573e-03,  1.26211368e-01,\n",
       "        -1.98886813e-01]))"
      ]
     },
     "execution_count": 12,
     "metadata": {},
     "output_type": "execute_result"
    }
   ],
   "source": [
    "model.intercept_, model.coef_"
   ]
  },
  {
   "cell_type": "code",
   "execution_count": 13,
   "metadata": {},
   "outputs": [],
   "source": [
    "col_list = df.columns"
   ]
  },
  {
   "cell_type": "code",
   "execution_count": 14,
   "metadata": {},
   "outputs": [
    {
     "data": {
      "image/png": "[encoded data removed]",
      "text/plain": [
       "<Figure size 1080x576 with 1 Axes>"
      ]
     },
     "metadata": {},
     "output_type": "display_data"
    }
   ],
   "source": [
    "plt.figure(figsize= (15, 8))\n",
    "for i in range(len(col_list) - 1):\n",
    "    plt.plot(cof_list[i], model.coef_[i], 'rX', markersize = 15)\n",
    "    plt.text(cof_list[i] + 0.1, model.coef_[i] + 0.1, col_list[i], fontsize = 15)"
   ]
  },
  {
   "cell_type": "markdown",
   "metadata": {},
   "source": [
    "## Is there evidence of non-linear association between any of the predictors and the response? To answer this question, for each predictor X, fit a model of the form $ Y = \\beta_0 + \\beta_1 X + \\beta_2 X^2 + \\beta_3 X^3 + \\epsilon$ "
   ]
  },
  {
   "cell_type": "code",
   "execution_count": 15,
   "metadata": {},
   "outputs": [
    {
     "data": {
      "text/plain": [
       "39"
      ]
     },
     "execution_count": 15,
     "metadata": {},
     "output_type": "execute_result"
    }
   ],
   "source": [
    "col_names = X.columns\n",
    "XX = pd.DataFrame()\n",
    "for col_name in col_names:\n",
    "    XX[str(col_name) + '-Sq'] = X[col_name] ** 2\n",
    "    XX[str(col_name) + '-Cu'] = X[col_name] ** 3\n",
    "    \n",
    "X2 = pd.concat([X, XX], axis = 1)\n",
    "len(X2.columns)"
   ]
  },
  {
   "cell_type": "code",
   "execution_count": 16,
   "metadata": {},
   "outputs": [
    {
     "name": "stdout",
     "output_type": "stream",
     "text": [
      "Residuals:\n",
      "Min      1Q  Median      3Q      Max\n",
      "-67.4128 -1.0777  0.1801  1.5749  15.3864\n",
      "\n",
      "\n",
      "Coefficients:\n",
      "              Estimate                                    Std. Error              t value   p value\n",
      "_intercept  -45.724185                           (70368744177664+0j)              (-0+0j)  1.000000\n",
      "ZN           -0.052985                      (-0+30165643844039.906j)                   0j  1.000000\n",
      "INDUS         0.144231                    (-0.000955+374805.743585j)              (-0-0j)  1.000000\n",
      "CHAS          0.114226        (-13343372.051886+155738486608604.75j)              (-0-0j)  1.000000\n",
      "NOX         469.113099                      (17513.201983-0.019544j)          (0.0268+0j)  0.978641\n",
      "RM           -1.537729                        (-5.038612+30.137475j)     (0.0083+0.0496j)  0.959883\n",
      "AGE           0.088118                           (0.138207+1.3e-05j)     (0.6376-0.0001j)  0.524033\n",
      "DIS         -10.077116                          (1.957987+0.004793j)    (-5.1466+0.0126j)  0.000000\n",
      "RAD           1.209398                          (1.057841+0.009643j)     (1.1432-0.0104j)  0.253488\n",
      "TAX           0.049758                              (0.10335+4e-06j)          (0.4815-0j)  0.630402\n",
      "PT            3.121071                           (25.22257-5.28011j)     (0.1185+0.0248j)  0.903647\n",
      "B            -0.036039                             (0.040846+8e-06j)    (-0.8823+0.0002j)  0.378019\n",
      "LSTAT         1.243614                           (0.467832+0.00226j)     (2.6582-0.0128j)  0.008105\n",
      "MV           -4.540261                          (0.467535+0.000165j)    (-9.7111+0.0034j)  0.000000\n",
      "ZN-Sq         0.001634                           (0.002509-9.4e-05j)     (0.6504+0.0243j)  0.515429\n",
      "ZN-Cu        -0.000010                                    (3e-06-0j)    (-3.0667-0.0852j)  0.002272\n",
      "INDUS-Sq      0.003665                           (0.047893-2.6e-05j)          (0.0765+0j)  0.939028\n",
      "INDUS-Cu     -0.000367                           (0.000221+3.9e-05j)    (-1.6102+0.2848j)  0.102637\n",
      "CHAS-Sq       0.113820    (7.085037956532207e+21-91055053124485.19j)                   0j  1.000000\n",
      "CHAS-Cu       0.113820  (-8.228115675850442e+20+205448274096442.62j)              (-0-0j)  1.000000\n",
      "NOX-Sq     -786.124389                        (326.150691-0.727837j)    (-2.4103-0.0054j)  0.016296\n",
      "NOX-Cu      407.923953                        (100.767948-1.029591j)     (4.0477+0.0414j)  0.000060\n",
      "RM-Sq        -0.170288                           (0.357461+0.25769j)     (-0.3135+0.226j)  0.699335\n",
      "RM-Cu         0.032122                          (0.015554+0.001483j)     (2.0466-0.1951j)  0.040309\n",
      "AGE-Sq       -0.003059                          (0.000465-0.000233j)     (-5.253-2.6346j)  0.000000\n",
      "AGE-Cu        0.000023                                    (1e-06-0j)    (20.3291+0.0494j)  0.000000\n",
      "DIS-Sq        1.577946                          (0.141343-0.000606j)    (11.1637+0.0478j)  0.000000\n",
      "DIS-Cu       -0.075199                          (0.002363+0.000375j)   (-31.0346+4.9269j)  0.000000\n",
      "RAD-Sq       -0.166035                          (0.041402-0.000355j)    (-4.0101-0.0344j)  0.000070\n",
      "RAD-Cu        0.006040                           (0.000632+0.00011j)     (9.2761-1.6173j)  0.000000\n",
      "TAX-Sq       -0.000134                              (1.9e-05+1e-06j)     (-6.9201+0.347j)  0.000000\n",
      "TAX-Cu        0.000000                                            0j    (27.9092-0.0137j)  0.000000\n",
      "PT-Sq        -0.140201                          (0.155942-0.014261j)    (-0.8916-0.0815j)  0.371041\n",
      "PT-Cu         0.001626                          (0.001147+0.000816j)      (0.941-0.6694j)  0.248721\n",
      "B-Sq          0.000121                              (5.5e-05+4e-06j)     (2.1757-0.1699j)  0.029548\n",
      "B-Cu         -0.000000                                            0j    (-3.9963+0.0091j)  0.000074\n",
      "LSTAT-Sq     -0.091370                             (0.00944-0.0001j)    (-9.6783-0.1023j)  0.000000\n",
      "LSTAT-Cu      0.001614                                (4e-05+1e-06j)    (40.0799-0.9895j)  0.000000\n",
      "MV-Sq         0.144180                          (0.000616+0.001545j)   (32.0982-80.5408j)  0.000000\n",
      "MV-Cu        -0.001460                            (3.7e-05+2.7e-05j)  (-25.6357+19.0746j)  0.000000\n",
      "---\n",
      "R-squared:  0.60040,    Adjusted R-squared:  0.56696\n",
      "F-statistic: 17.95 on 39 features\n"
     ]
    }
   ],
   "source": [
    "model = LinearRegression()\n",
    "model.fit(X2, y)\n",
    "stats.summary(model, X2, y, X2.columns)"
   ]
  },
  {
   "cell_type": "markdown",
   "metadata": {},
   "source": [
    "Inclusion of higher order polynomial have made p-value of some of the lienar order features significantly higher while p-value of the some of the higher order feature being singnificantly lowered. So yes, there is an evidence of the non-linearity. But this is complicated and requires the further attention. "
   ]
  },
  {
   "cell_type": "code",
   "execution_count": null,
   "metadata": {},
   "outputs": [],
   "source": []
  }
 ],
 "metadata": {
  "kernelspec": {
   "display_name": "Python 3",
   "language": "python",
   "name": "python3"
  },
  "language_info": {
   "codemirror_mode": {
    "name": "ipython",
    "version": 3
   },
   "file_extension": ".py",
   "mimetype": "text/x-python",
   "name": "python",
   "nbconvert_exporter": "python",
   "pygments_lexer": "ipython3",
   "version": "3.6.5"
  }
 },
 "nbformat": 4,
 "nbformat_minor": 2
}
