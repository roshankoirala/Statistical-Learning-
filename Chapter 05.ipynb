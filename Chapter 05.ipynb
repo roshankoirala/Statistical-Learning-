{
 "cells": [
  {
   "cell_type": "code",
   "execution_count": 1,
   "id": "e51f867d",
   "metadata": {},
   "outputs": [],
   "source": [
    "import numpy as np\n",
    "import pandas as pd\n",
    "import matplotlib.pyplot as plt\n",
    "import seaborn as sns "
   ]
  },
  {
   "cell_type": "code",
   "execution_count": 2,
   "id": "ef9f7c10",
   "metadata": {},
   "outputs": [],
   "source": [
    "from sklearn.model_selection import train_test_split, cross_val_score\n",
    "from sklearn.compose import ColumnTransformer\n",
    "from sklearn.preprocessing import LabelEncoder, OneHotEncoder, StandardScaler\n",
    "from sklearn.pipeline import make_pipeline\n",
    "from sklearn.linear_model import LogisticRegression"
   ]
  },
  {
   "cell_type": "markdown",
   "id": "504bb99e",
   "metadata": {},
   "source": [
    "# EX 5 "
   ]
  },
  {
   "cell_type": "code",
   "execution_count": 3,
   "id": "1ff9aa2e",
   "metadata": {},
   "outputs": [
    {
     "data": {
      "text/html": [
       "<div>\n",
       "<style scoped>\n",
       "    .dataframe tbody tr th:only-of-type {\n",
       "        vertical-align: middle;\n",
       "    }\n",
       "\n",
       "    .dataframe tbody tr th {\n",
       "        vertical-align: top;\n",
       "    }\n",
       "\n",
       "    .dataframe thead th {\n",
       "        text-align: right;\n",
       "    }\n",
       "</style>\n",
       "<table border=\"1\" class=\"dataframe\">\n",
       "  <thead>\n",
       "    <tr style=\"text-align: right;\">\n",
       "      <th></th>\n",
       "      <th>default</th>\n",
       "      <th>student</th>\n",
       "      <th>balance</th>\n",
       "      <th>income</th>\n",
       "    </tr>\n",
       "  </thead>\n",
       "  <tbody>\n",
       "    <tr>\n",
       "      <th>0</th>\n",
       "      <td>No</td>\n",
       "      <td>No</td>\n",
       "      <td>729.526495</td>\n",
       "      <td>44361.625074</td>\n",
       "    </tr>\n",
       "    <tr>\n",
       "      <th>1</th>\n",
       "      <td>No</td>\n",
       "      <td>Yes</td>\n",
       "      <td>817.180407</td>\n",
       "      <td>12106.134700</td>\n",
       "    </tr>\n",
       "    <tr>\n",
       "      <th>2</th>\n",
       "      <td>No</td>\n",
       "      <td>No</td>\n",
       "      <td>1073.549164</td>\n",
       "      <td>31767.138947</td>\n",
       "    </tr>\n",
       "    <tr>\n",
       "      <th>3</th>\n",
       "      <td>No</td>\n",
       "      <td>No</td>\n",
       "      <td>529.250605</td>\n",
       "      <td>35704.493935</td>\n",
       "    </tr>\n",
       "    <tr>\n",
       "      <th>4</th>\n",
       "      <td>No</td>\n",
       "      <td>No</td>\n",
       "      <td>785.655883</td>\n",
       "      <td>38463.495879</td>\n",
       "    </tr>\n",
       "  </tbody>\n",
       "</table>\n",
       "</div>"
      ],
      "text/plain": [
       "  default student      balance        income\n",
       "0      No      No   729.526495  44361.625074\n",
       "1      No     Yes   817.180407  12106.134700\n",
       "2      No      No  1073.549164  31767.138947\n",
       "3      No      No   529.250605  35704.493935\n",
       "4      No      No   785.655883  38463.495879"
      ]
     },
     "execution_count": 3,
     "metadata": {},
     "output_type": "execute_result"
    }
   ],
   "source": [
    "default = pd.read_csv('data/default.csv')\n",
    "default.head()"
   ]
  },
  {
   "cell_type": "code",
   "execution_count": 4,
   "id": "126399b6",
   "metadata": {},
   "outputs": [],
   "source": [
    "labeler = LabelEncoder()"
   ]
  },
  {
   "cell_type": "code",
   "execution_count": 5,
   "id": "9e78c436",
   "metadata": {},
   "outputs": [],
   "source": [
    "X = default[['balance', 'income']]\n",
    "y = labeler.fit_transform(default['default'])\n",
    "\n",
    "X_train, X_test, y_train, y_test = train_test_split(X, y)"
   ]
  },
  {
   "cell_type": "code",
   "execution_count": 6,
   "id": "1aeda5ca",
   "metadata": {},
   "outputs": [
    {
     "data": {
      "text/plain": [
       "0.9676"
      ]
     },
     "execution_count": 6,
     "metadata": {},
     "output_type": "execute_result"
    }
   ],
   "source": [
    "model = LogisticRegression()\n",
    "model.fit(X_train, y_train)\n",
    "model.score(X_test, y_test)"
   ]
  },
  {
   "cell_type": "code",
   "execution_count": 7,
   "id": "88dd3ba4",
   "metadata": {},
   "outputs": [
    {
     "data": {
      "text/plain": [
       "array([0.97360528, 0.97149715, 0.96579658])"
      ]
     },
     "execution_count": 7,
     "metadata": {},
     "output_type": "execute_result"
    }
   ],
   "source": [
    "cross_val_score(model, X, y, cv=3)"
   ]
  },
  {
   "cell_type": "code",
   "execution_count": 8,
   "id": "008b7c3b",
   "metadata": {},
   "outputs": [],
   "source": [
    "X1 = default.drop(['default'], axis=1)\n",
    "y1 = labeler.fit_transform(default['default'])\n",
    "\n",
    "X1_train, X1_test, y1_train, y1_test = train_test_split(X1, y1)"
   ]
  },
  {
   "cell_type": "code",
   "execution_count": 9,
   "id": "7b9035c0",
   "metadata": {},
   "outputs": [],
   "source": [
    "cat_feat = ['student']\n",
    "num_feat = ['balance', 'income']\n",
    "\n",
    "num_process = StandardScaler()\n",
    "cat_process = OneHotEncoder(drop='if_binary')\n",
    "\n",
    "preprocess = ColumnTransformer([('cat', cat_process, cat_feat), \n",
    "                                ('num', num_process, num_feat)])\n",
    "\n",
    "X1_train_process = preprocess.fit_transform(X1_train)\n",
    "X1_test_process = preprocess.transform(X1_test)"
   ]
  },
  {
   "cell_type": "code",
   "execution_count": 10,
   "id": "a02b9bac",
   "metadata": {},
   "outputs": [
    {
     "data": {
      "text/plain": [
       "0.974"
      ]
     },
     "execution_count": 10,
     "metadata": {},
     "output_type": "execute_result"
    }
   ],
   "source": [
    "model = LogisticRegression()\n",
    "model.fit(X1_train_process, y1_train)\n",
    "model.score(X1_test_process, y1_test)"
   ]
  },
  {
   "cell_type": "code",
   "execution_count": 11,
   "id": "32e09631",
   "metadata": {},
   "outputs": [
    {
     "data": {
      "text/plain": [
       "array([0.97360528, 0.97209721, 0.97239724])"
      ]
     },
     "execution_count": 11,
     "metadata": {},
     "output_type": "execute_result"
    }
   ],
   "source": [
    "model_pipe = make_pipeline(preprocess, model)\n",
    "cross_val_score(model_pipe, X1, y1, cv=3)"
   ]
  },
  {
   "cell_type": "markdown",
   "id": "c54b2bf4",
   "metadata": {},
   "source": [
    "# EX 6 "
   ]
  },
  {
   "cell_type": "code",
   "execution_count": 12,
   "id": "de0c2a1b",
   "metadata": {},
   "outputs": [],
   "source": [
    "import statsmodels.api as sm"
   ]
  },
  {
   "cell_type": "code",
   "execution_count": 13,
   "id": "680bfec1",
   "metadata": {},
   "outputs": [
    {
     "name": "stdout",
     "output_type": "stream",
     "text": [
      "Optimization terminated successfully.\n",
      "         Current function value: 0.173456\n",
      "         Iterations 8\n"
     ]
    },
    {
     "data": {
      "text/html": [
       "<table class=\"simpletable\">\n",
       "<tr>\n",
       "        <td>Model:</td>              <td>Logit</td>      <td>Pseudo R-squared:</td>  <td>-0.188</td>  \n",
       "</tr>\n",
       "<tr>\n",
       "  <td>Dependent Variable:</td>         <td>y</td>              <td>AIC:</td>        <td>3473.1110</td>\n",
       "</tr>\n",
       "<tr>\n",
       "         <td>Date:</td>        <td>2021-09-16 17:09</td>       <td>BIC:</td>        <td>3487.5316</td>\n",
       "</tr>\n",
       "<tr>\n",
       "   <td>No. Observations:</td>        <td>10000</td>       <td>Log-Likelihood:</td>   <td>-1734.6</td> \n",
       "</tr>\n",
       "<tr>\n",
       "       <td>Df Model:</td>              <td>1</td>            <td>LL-Null:</td>       <td>-1460.3</td> \n",
       "</tr>\n",
       "<tr>\n",
       "     <td>Df Residuals:</td>          <td>9998</td>         <td>LLR p-value:</td>     <td>1.0000</td>  \n",
       "</tr>\n",
       "<tr>\n",
       "      <td>Converged:</td>           <td>1.0000</td>           <td>Scale:</td>        <td>1.0000</td>  \n",
       "</tr>\n",
       "<tr>\n",
       "    <td>No. Iterations:</td>        <td>8.0000</td>              <td></td>              <td></td>     \n",
       "</tr>\n",
       "</table>\n",
       "<table class=\"simpletable\">\n",
       "<tr>\n",
       "     <td></td>      <th>Coef.</th>  <th>Std.Err.</th>     <th>z</th>     <th>P>|z|</th> <th>[0.025</th>  <th>0.975]</th> \n",
       "</tr>\n",
       "<tr>\n",
       "  <th>balance</th> <td>0.0004</td>   <td>0.0001</td>   <td>5.7968</td>  <td>0.0000</td> <td>0.0003</td>  <td>0.0005</td> \n",
       "</tr>\n",
       "<tr>\n",
       "  <th>income</th>  <td>-0.0001</td>  <td>0.0000</td>  <td>-34.0249</td> <td>0.0000</td> <td>-0.0001</td> <td>-0.0001</td>\n",
       "</tr>\n",
       "</table>"
      ],
      "text/plain": [
       "<class 'statsmodels.iolib.summary2.Summary'>\n",
       "\"\"\"\n",
       "                         Results: Logit\n",
       "================================================================\n",
       "Model:              Logit            Pseudo R-squared: -0.188   \n",
       "Dependent Variable: y                AIC:              3473.1110\n",
       "Date:               2021-09-16 17:09 BIC:              3487.5316\n",
       "No. Observations:   10000            Log-Likelihood:   -1734.6  \n",
       "Df Model:           1                LL-Null:          -1460.3  \n",
       "Df Residuals:       9998             LLR p-value:      1.0000   \n",
       "Converged:          1.0000           Scale:            1.0000   \n",
       "No. Iterations:     8.0000                                      \n",
       "-----------------------------------------------------------------\n",
       "             Coef.   Std.Err.     z      P>|z|    [0.025   0.975]\n",
       "-----------------------------------------------------------------\n",
       "balance      0.0004    0.0001    5.7968  0.0000   0.0003   0.0005\n",
       "income      -0.0001    0.0000  -34.0249  0.0000  -0.0001  -0.0001\n",
       "================================================================\n",
       "\n",
       "\"\"\""
      ]
     },
     "execution_count": 13,
     "metadata": {},
     "output_type": "execute_result"
    }
   ],
   "source": [
    "model = sm.Logit(y, X).fit()\n",
    "model.summary2()"
   ]
  },
  {
   "cell_type": "code",
   "execution_count": 42,
   "id": "cf3102ec",
   "metadata": {},
   "outputs": [],
   "source": [
    "def bootstrap(X, y):\n",
    "    \n",
    "    n = len(X)\n",
    "    idx_choose = np.random.choice(X.index, n)\n",
    "    X1 = X.iloc[idx_choose]\n",
    "    y1 = y[idx_choose]\n",
    "    \n",
    "    model = sm.Logit(y1, X1).fit(disp=False)\n",
    "    return model.params.values"
   ]
  },
  {
   "cell_type": "code",
   "execution_count": 43,
   "id": "16438a70",
   "metadata": {},
   "outputs": [
    {
     "data": {
      "text/plain": [
       "array([ 0.00040147, -0.00012752])"
      ]
     },
     "execution_count": 43,
     "metadata": {},
     "output_type": "execute_result"
    }
   ],
   "source": [
    "coef = bootstrap(X, y)\n",
    "coef"
   ]
  },
  {
   "cell_type": "code",
   "execution_count": 62,
   "id": "df03610b",
   "metadata": {},
   "outputs": [],
   "source": [
    "def boot(X, y, n=1000):\n",
    "    coef_boot = np.zeros((n, X.shape[1]))\n",
    "    for i in range(n):\n",
    "        coef_boot[i] = bootstrap(X, y)\n",
    "        \n",
    "    \n",
    "    return coef_boot"
   ]
  },
  {
   "cell_type": "code",
   "execution_count": 63,
   "id": "e421fe1e",
   "metadata": {},
   "outputs": [],
   "source": [
    "coef_boot = boot(X, y)"
   ]
  },
  {
   "cell_type": "code",
   "execution_count": 64,
   "id": "0e71f911",
   "metadata": {},
   "outputs": [
    {
     "data": {
      "text/plain": [
       "array([6.70639291e-05, 3.96458242e-06])"
      ]
     },
     "execution_count": 64,
     "metadata": {},
     "output_type": "execute_result"
    }
   ],
   "source": [
    "np.std(coef_boot, axis=0)"
   ]
  },
  {
   "cell_type": "code",
   "execution_count": 71,
   "id": "32b612fe",
   "metadata": {},
   "outputs": [
    {
     "data": {
      "text/plain": [
       "<AxesSubplot:ylabel='Count'>"
      ]
     },
     "execution_count": 71,
     "metadata": {},
     "output_type": "execute_result"
    },
    {
     "data": {
      "image/png": "[encoded data removed]",
      "text/plain": [
       "<Figure size 432x288 with 1 Axes>"
      ]
     },
     "metadata": {
      "needs_background": "light"
     },
     "output_type": "display_data"
    }
   ],
   "source": [
    "sns.histplot(coef_boot[:, 0])"
   ]
  },
  {
   "cell_type": "code",
   "execution_count": null,
   "id": "695a45ac",
   "metadata": {},
   "outputs": [],
   "source": []
  },
  {
   "cell_type": "code",
   "execution_count": 83,
   "id": "285ad8ee",
   "metadata": {},
   "outputs": [
    {
     "data": {
      "image/png": "[encoded data removed]",
      "text/plain": [
       "<Figure size 576x288 with 2 Axes>"
      ]
     },
     "metadata": {
      "needs_background": "light"
     },
     "output_type": "display_data"
    }
   ],
   "source": [
    "fig, axes = plt.subplots(1, 2, figsize=(8, 4))\n",
    "plt.subplots_adjust(wspace=0.3)\n",
    "\n",
    "sns.histplot(coef_boot[:, 0], ax=axes[0])\n",
    "sns.histplot(coef_boot[:, 1], ax=axes[1])\n",
    "\n",
    "plt.xticks(rotation=45)\n",
    "plt.show()"
   ]
  },
  {
   "cell_type": "code",
   "execution_count": null,
   "id": "67a99f1c",
   "metadata": {},
   "outputs": [],
   "source": []
  }
 ],
 "metadata": {
  "kernelspec": {
   "display_name": "Python 3",
   "language": "python",
   "name": "python3"
  },
  "language_info": {
   "codemirror_mode": {
    "name": "ipython",
    "version": 3
   },
   "file_extension": ".py",
   "mimetype": "text/x-python",
   "name": "python",
   "nbconvert_exporter": "python",
   "pygments_lexer": "ipython3",
   "version": "3.7.10"
  }
 },
 "nbformat": 4,
 "nbformat_minor": 5
}
